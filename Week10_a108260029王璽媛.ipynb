{
  "nbformat": 4,
  "nbformat_minor": 0,
  "metadata": {
    "colab": {
      "name": "Week10-a108260029王璽媛.ipynb",
      "provenance": [],
      "include_colab_link": true
    },
    "kernelspec": {
      "name": "python3",
      "display_name": "Python 3"
    }
  },
  "cells": [
    {
      "cell_type": "markdown",
      "metadata": {
        "id": "view-in-github",
        "colab_type": "text"
      },
      "source": [
        "<a href=\"https://colab.research.google.com/github/carol1334168/Computational-Thinking-and-Programming-Design/blob/master/Week10_a108260029%E7%8E%8B%E7%92%BD%E5%AA%9B.ipynb\" target=\"_parent\"><img src=\"https://colab.research.google.com/assets/colab-badge.svg\" alt=\"Open In Colab\"/></a>"
      ]
    },
    {
      "cell_type": "code",
      "metadata": {
        "id": "0lwwgVQiXsSk",
        "colab_type": "code",
        "colab": {
          "base_uri": "https://localhost:8080/",
          "height": 150
        },
        "outputId": "d2896242-c3ec-4be6-b8cd-6cfbc4b97c8b"
      },
      "source": [
        "print(\"First LOOK around\")\n",
        "do1 = input(\"玩就打 LOOK::\")\n",
        "\n",
        "if do1 == \"LOOK\":\n",
        "    print(\"Start to Play\")\n",
        "    print(\"Choose LEFT or RIGHT\")\n",
        "\n",
        "    do2 = input(\"選左或右::\")\n",
        "    if do2 == \"LEFT\":\n",
        "      print(\"Keep on!\")\n",
        "      print(\"看到食物\")\n",
        "      print(\"Food - CRAB or STARFISH\")\n",
        "\n",
        "    do3 = input(\"吃海星或吃螃蟹::\")\n",
        "    if do3 == \"STARFISH\":\n",
        "      print(\"Sorry,Fail.\")\n",
        "    elif do3 == \"CRAB\":\n",
        "      print(\"You get energy.\")\n",
        "      print(\"Yes or No\")\n",
        "\n",
        "    do4 = input(\"生吃嗎?::\")\n",
        "    if do4 == \"Yes\":\n",
        "      print(\"You have a chance to survive!\")\n",
        "    elif do4 == \"No\":\n",
        "      print(\"Sorry,You will die.\")\n",
        "\n",
        "    elif d02 == \"RIGHT\":\n",
        "      print(\"Sorry,you fall down.\")\n",
        "\n",
        "\n",
        "else:\n",
        "  print(\"請打大寫LOOK或遊戲結束\")"
      ],
      "execution_count": 14,
      "outputs": [
        {
          "output_type": "stream",
          "text": [
            "First LOOK around\n",
            "玩就打 LOOK::LOOK\n",
            "Start to Play\n",
            "Choose LEFT or RIGHT\n",
            "選左或右::右\n",
            "吃海星或吃螃蟹::螃蟹\n",
            "生吃嗎?::Yes\n",
            "You have a chance to survive!\n"
          ],
          "name": "stdout"
        }
      ]
    },
    {
      "cell_type": "code",
      "metadata": {
        "id": "m-bbr8CEe-0p",
        "colab_type": "code",
        "colab": {
          "base_uri": "https://localhost:8080/",
          "height": 66
        },
        "outputId": "9873131c-349e-4dfa-e1ab-7349bfb8fbd7"
      },
      "source": [
        "import random\n",
        "\n",
        "\n",
        "my= int(input(\"請出拳[0]剪刀[1]石頭[2]布\"))\n",
        "print(\"我出拳為\",my)\n",
        "\n",
        "computer=random.randint(0,2)\n",
        "print(\"電腦出拳為\",computer)"
      ],
      "execution_count": 2,
      "outputs": [
        {
          "output_type": "stream",
          "text": [
            "請出拳[0]剪刀[1]石頭[2]布1\n",
            "我出拳為 1\n",
            "電腦出拳為 0\n"
          ],
          "name": "stdout"
        }
      ]
    },
    {
      "cell_type": "code",
      "metadata": {
        "id": "kTyHevidgrGt",
        "colab_type": "code",
        "colab": {
          "base_uri": "https://localhost:8080/",
          "height": 231
        },
        "outputId": "f8b94c5f-3f4e-4d1f-cc5b-a28eb98c2640"
      },
      "source": [
        "if my_choice==com_choice:\n",
        "  print(\"平手\")\n",
        "elif my_choice==(com_choice+1)%3:\n",
        "  print(\"我贏了\")\n",
        "else:\n",
        "  print(\"我輸了\")"
      ],
      "execution_count": 4,
      "outputs": [
        {
          "output_type": "error",
          "ename": "NameError",
          "evalue": "ignored",
          "traceback": [
            "\u001b[0;31m---------------------------------------------------------------------------\u001b[0m",
            "\u001b[0;31mNameError\u001b[0m                                 Traceback (most recent call last)",
            "\u001b[0;32m<ipython-input-4-3e1412033d1a>\u001b[0m in \u001b[0;36m<module>\u001b[0;34m()\u001b[0m\n\u001b[0;32m----> 1\u001b[0;31m \u001b[0;32mif\u001b[0m \u001b[0mmy_choice\u001b[0m\u001b[0;34m==\u001b[0m\u001b[0mcom_choice\u001b[0m\u001b[0;34m:\u001b[0m\u001b[0;34m\u001b[0m\u001b[0;34m\u001b[0m\u001b[0m\n\u001b[0m\u001b[1;32m      2\u001b[0m   \u001b[0mprint\u001b[0m\u001b[0;34m(\u001b[0m\u001b[0;34m\"平手\"\u001b[0m\u001b[0;34m)\u001b[0m\u001b[0;34m\u001b[0m\u001b[0;34m\u001b[0m\u001b[0m\n\u001b[1;32m      3\u001b[0m \u001b[0;32melif\u001b[0m \u001b[0mmy_choice\u001b[0m\u001b[0;34m==\u001b[0m\u001b[0;34m(\u001b[0m\u001b[0mcom_choice\u001b[0m\u001b[0;34m+\u001b[0m\u001b[0;36m1\u001b[0m\u001b[0;34m)\u001b[0m\u001b[0;34m%\u001b[0m\u001b[0;36m3\u001b[0m\u001b[0;34m:\u001b[0m\u001b[0;34m\u001b[0m\u001b[0;34m\u001b[0m\u001b[0m\n\u001b[1;32m      4\u001b[0m   \u001b[0mprint\u001b[0m\u001b[0;34m(\u001b[0m\u001b[0;34m\"我贏了\"\u001b[0m\u001b[0;34m)\u001b[0m\u001b[0;34m\u001b[0m\u001b[0;34m\u001b[0m\u001b[0m\n\u001b[1;32m      5\u001b[0m \u001b[0;32melse\u001b[0m\u001b[0;34m:\u001b[0m\u001b[0;34m\u001b[0m\u001b[0;34m\u001b[0m\u001b[0m\n",
            "\u001b[0;31mNameError\u001b[0m: name 'my_choice' is not defined"
          ]
        }
      ]
    },
    {
      "cell_type": "code",
      "metadata": {
        "id": "alJnvPHbi3EB",
        "colab_type": "code",
        "colab": {}
      },
      "source": [
        ""
      ],
      "execution_count": 0,
      "outputs": []
    }
  ]
}
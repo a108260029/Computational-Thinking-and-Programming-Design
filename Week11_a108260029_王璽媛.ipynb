{
  "nbformat": 4,
  "nbformat_minor": 0,
  "metadata": {
    "colab": {
      "name": "Week11-a108260029-王璽媛.ipynb",
      "provenance": [],
      "include_colab_link": true
    },
    "kernelspec": {
      "name": "python3",
      "display_name": "Python 3"
    }
  },
  "cells": [
    {
      "cell_type": "markdown",
      "metadata": {
        "id": "view-in-github",
        "colab_type": "text"
      },
      "source": [
        "<a href=\"https://colab.research.google.com/github/carol1334168/Computational-Thinking-and-Programming-Design/blob/master/Week11_a108260029_%E7%8E%8B%E7%92%BD%E5%AA%9B.ipynb\" target=\"_parent\"><img src=\"https://colab.research.google.com/assets/colab-badge.svg\" alt=\"Open In Colab\"/></a>"
      ]
    },
    {
      "cell_type": "code",
      "metadata": {
        "id": "2_S7GduXd63f",
        "colab_type": "code",
        "colab": {
          "base_uri": "https://localhost:8080/",
          "height": 68
        },
        "outputId": "03e2163e-df1e-4cce-f6a5-bc0db48a4a9c"
      },
      "source": [
        "import math\n",
        "math.pi\n",
        "math.e\n",
        "\n",
        "r=eval(input(\"輸入圓的半徑:\"))\n",
        "area1=3.14159*(r**2)\n",
        "area2=math.pi*(r**2)\n",
        "print('圓面積1:',area1)\n",
        "print('圓面積2:',area2)"
      ],
      "execution_count": 2,
      "outputs": [
        {
          "output_type": "stream",
          "text": [
            "輸入圓的半徑:2\n",
            "圓面積1: 12.56636\n",
            "圓面積2: 12.566370614359172\n"
          ],
          "name": "stdout"
        }
      ]
    },
    {
      "cell_type": "code",
      "metadata": {
        "id": "jvpVkv5xf9m4",
        "colab_type": "code",
        "colab": {
          "base_uri": "https://localhost:8080/",
          "height": 51
        },
        "outputId": "315080cf-72a6-4d2c-ec4e-1b126c442866"
      },
      "source": [
        "座號=int(input('請輸入座號?'))\n",
        "組別=(座號-1)//5+1\n",
        "print('組別為',組別)"
      ],
      "execution_count": 4,
      "outputs": [
        {
          "output_type": "stream",
          "text": [
            "請輸入座號?17\n",
            "組別為 4\n"
          ],
          "name": "stdout"
        }
      ]
    },
    {
      "cell_type": "code",
      "metadata": {
        "id": "3SUPAmscg64V",
        "colab_type": "code",
        "colab": {
          "base_uri": "https://localhost:8080/",
          "height": 51
        },
        "outputId": "52872929-214e-4c12-cfc7-969989ba2ab2"
      },
      "source": [
        "number=int(input(\"Enter a number?\"))\n",
        "\n",
        "if (number%5)==0:\n",
        "   print(\"Group is\",number//5)\n",
        "else:\n",
        "   print(\"Group is\",number//5+1)"
      ],
      "execution_count": 6,
      "outputs": [
        {
          "output_type": "stream",
          "text": [
            "Enter a number?15\n",
            "Group is 3\n"
          ],
          "name": "stdout"
        }
      ]
    },
    {
      "cell_type": "code",
      "metadata": {
        "id": "1bqMog9ViY4p",
        "colab_type": "code",
        "colab": {
          "base_uri": "https://localhost:8080/",
          "height": 34
        },
        "outputId": "083036fe-9326-4f71-8619-6111d4581936"
      },
      "source": [
        "name='Stephen Curry'\n",
        "\n",
        "name=\"Stephen Curry\"\n",
        "\n",
        "question=\"Are you Curry?\"\n",
        "\n",
        "answer=\"Yes,I'm.\"\n",
        "\n",
        "print(question+name)"
      ],
      "execution_count": 7,
      "outputs": [
        {
          "output_type": "stream",
          "text": [
            "Are you Curry?Stephen Curry\n"
          ],
          "name": "stdout"
        }
      ]
    },
    {
      "cell_type": "code",
      "metadata": {
        "id": "4xHz7ctIs054",
        "colab_type": "code",
        "colab": {}
      },
      "source": [
        ""
      ],
      "execution_count": 0,
      "outputs": []
    }
  ]
}
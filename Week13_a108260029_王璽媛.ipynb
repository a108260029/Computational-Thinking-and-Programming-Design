{
  "nbformat": 4,
  "nbformat_minor": 0,
  "metadata": {
    "colab": {
      "name": "Week13-a108260029-王璽媛.ipynb",
      "provenance": [],
      "include_colab_link": true
    },
    "kernelspec": {
      "name": "python3",
      "display_name": "Python 3"
    }
  },
  "cells": [
    {
      "cell_type": "markdown",
      "metadata": {
        "id": "view-in-github",
        "colab_type": "text"
      },
      "source": [
        "<a href=\"https://colab.research.google.com/github/carol1334168/Computational-Thinking-and-Programming-Design/blob/master/Week13_a108260029_%E7%8E%8B%E7%92%BD%E5%AA%9B.ipynb\" target=\"_parent\"><img src=\"https://colab.research.google.com/assets/colab-badge.svg\" alt=\"Open In Colab\"/></a>"
      ]
    },
    {
      "cell_type": "code",
      "metadata": {
        "id": "spIlSkqWiDPX",
        "colab_type": "code",
        "colab": {
          "base_uri": "https://localhost:8080/",
          "height": 51
        },
        "outputId": "412b83ec-44f9-48e4-dd25-7caefb42b53d"
      },
      "source": [
        "num=input(\"Enter a number:\")\n",
        "num=int(num)\n",
        "\n",
        "if num>0:\n",
        "  print(\"Number is positive.\")\n",
        "print(\"Finished\")"
      ],
      "execution_count": 1,
      "outputs": [
        {
          "output_type": "stream",
          "text": [
            "Enter a number:-12\n",
            "Finished\n"
          ],
          "name": "stdout"
        }
      ]
    },
    {
      "cell_type": "code",
      "metadata": {
        "id": "f0t7_WZxkgSt",
        "colab_type": "code",
        "colab": {
          "base_uri": "https://localhost:8080/",
          "height": 68
        },
        "outputId": "4940e3f4-6cdf-4111-83f3-033a67ee591a"
      },
      "source": [
        "num1=int(input(\"Enter a number:\"))\n",
        "num2=int(input(\"Enter another number\"))\n",
        "\n",
        "if num1<0:\n",
        "  print(\"numl is negative\")\n",
        "  if num2<0:\n",
        "    print(\"num2 is negative\")\n",
        "print(\"Finished\")"
      ],
      "execution_count": 2,
      "outputs": [
        {
          "output_type": "stream",
          "text": [
            "Enter a number:12\n",
            "Enter another number-12\n",
            "Finished\n"
          ],
          "name": "stdout"
        }
      ]
    }
  ]
}
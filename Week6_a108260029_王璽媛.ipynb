{
  "nbformat": 4,
  "nbformat_minor": 0,
  "metadata": {
    "colab": {
      "name": "Week6-a108260029-王璽媛.ipynb",
      "provenance": [],
      "include_colab_link": true
    },
    "kernelspec": {
      "name": "python3",
      "display_name": "Python 3"
    }
  },
  "cells": [
    {
      "cell_type": "markdown",
      "metadata": {
        "id": "view-in-github",
        "colab_type": "text"
      },
      "source": [
        "<a href=\"https://colab.research.google.com/github/carol1334168/Computational-Thinking-and-Programming-Design/blob/master/Week6_a108260029_%E7%8E%8B%E7%92%BD%E5%AA%9B.ipynb\" target=\"_parent\"><img src=\"https://colab.research.google.com/assets/colab-badge.svg\" alt=\"Open In Colab\"/></a>"
      ]
    },
    {
      "cell_type": "code",
      "metadata": {
        "id": "vmZmuSBbIR4w",
        "colab_type": "code",
        "colab": {
          "base_uri": "https://localhost:8080/",
          "height": 85
        },
        "outputId": "1c13521a-b2ae-4cb1-8c5c-b848eb6d4f40"
      },
      "source": [
        "minutes_to_convert = 123\n",
        "hours_decimal = minutes_to_convert/60\n",
        "hours_part = int(hours_decimal)\n",
        "minutes_decimal = hours_decimal-hours_part\n",
        "minutes_part = round(minutes_decimal*60)\n",
        "print(\"Hours\")\n",
        "print(hours_part)\n",
        "print(\"Minutes\")\n",
        "print(minutes_part)\n"
      ],
      "execution_count": 1,
      "outputs": [
        {
          "output_type": "stream",
          "text": [
            "Hours\n",
            "2\n",
            "Minutes\n",
            "3\n"
          ],
          "name": "stdout"
        }
      ]
    },
    {
      "cell_type": "code",
      "metadata": {
        "id": "bKpjy26zTA7e",
        "colab_type": "code",
        "colab": {
          "base_uri": "https://localhost:8080/",
          "height": 119
        },
        "outputId": "73d43cd5-80c9-4672-cd9c-998880ef6814"
      },
      "source": [
        "name = input('請問貴姓大名？')\n",
        "print('你好，', name)\n",
        "y = int(input('請問年紀？'))\n",
        "print('原來你', y,'歲')\n",
        "w = float(input('請問體重？'))\n",
        "print('體重為', w)"
      ],
      "execution_count": 3,
      "outputs": [
        {
          "output_type": "stream",
          "text": [
            "請問貴姓大名？王璽媛\n",
            "你好， 王璽媛\n",
            "請問年紀？18\n",
            "原來你 18 歲\n",
            "請問體重？60\n",
            "體重為 60.0\n"
          ],
          "name": "stdout"
        }
      ]
    },
    {
      "cell_type": "code",
      "metadata": {
        "id": "d7_eiSKKTkRj",
        "colab_type": "code",
        "colab": {
          "base_uri": "https://localhost:8080/",
          "height": 102
        },
        "outputId": "2f0f6305-51ad-4f34-a060-24067890f12a"
      },
      "source": [
        "money = int(input('請輸入本金？'))\n",
        "interest = float(input('請輸入年利率(%)？'))\n",
        "y1 = money * (1 + interest/100)\n",
        "y2 = money * ((1 + interest/100) ** 2)\n",
        "y3 = money * ((1 + interest/100) ** 3)\n",
        "print('第一年本利和為', y1)\n",
        "print('第二年本利和為', y2)\n",
        "print('第三年本利和為', y3)"
      ],
      "execution_count": 4,
      "outputs": [
        {
          "output_type": "stream",
          "text": [
            "請輸入本金？1000\n",
            "請輸入年利率(%)？10\n",
            "第一年本利和為 1100.0\n",
            "第二年本利和為 1210.0000000000002\n",
            "第三年本利和為 1331.0000000000005\n"
          ],
          "name": "stdout"
        }
      ]
    },
    {
      "cell_type": "code",
      "metadata": {
        "id": "Ne3_llbPXTN3",
        "colab_type": "code",
        "colab": {
          "base_uri": "https://localhost:8080/",
          "height": 102
        },
        "outputId": "de35aa69-51a1-406b-9fce-69e7e9b77beb"
      },
      "source": [
        "a = int(input('請輸入第一次期中考成績？'))\n",
        "b= int(input('請輸入第二次期中考成績？'))\n",
        "c= int(input('請輸入期末考成績？'))\n",
        "總成績 = a + b + c\n",
        "print('計算分數的加總為', 總成績)\n",
        "平均 =(a+b+c)/3\n",
        "print('計算分數的平均為', 平均)"
      ],
      "execution_count": 6,
      "outputs": [
        {
          "output_type": "stream",
          "text": [
            "請輸入第一次期中考成績？75\n",
            "請輸入第二次期中考成績？80\n",
            "請輸入期末考成績？65\n",
            "計算分數的加總為 220\n",
            "計算分數的平均為 73.33333333333333\n"
          ],
          "name": "stdout"
        }
      ]
    },
    {
      "cell_type": "code",
      "metadata": {
        "id": "A0n7KyDRcBNK",
        "colab_type": "code",
        "colab": {
          "base_uri": "https://localhost:8080/",
          "height": 68
        },
        "outputId": "3d11a677-23aa-4dcc-a6bd-5583b6ef43c9"
      },
      "source": [
        "x = int(input('請輸入幾尺？'))\n",
        "y = int(input('請輸入幾吋？'))\n",
        "z =(5*12+8)*2.54\n",
        "print('轉換成公分',z,'公分')"
      ],
      "execution_count": 7,
      "outputs": [
        {
          "output_type": "stream",
          "text": [
            "請輸入幾尺？5\n",
            "請輸入幾吋？8\n",
            "轉換成公分 172.72 公分\n"
          ],
          "name": "stdout"
        }
      ]
    },
    {
      "cell_type": "code",
      "metadata": {
        "id": "P3c276ojeO16",
        "colab_type": "code",
        "colab": {}
      },
      "source": [
        ""
      ],
      "execution_count": 0,
      "outputs": []
    }
  ]
}
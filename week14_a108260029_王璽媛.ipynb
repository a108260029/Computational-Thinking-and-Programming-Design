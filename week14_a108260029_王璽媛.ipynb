{
  "nbformat": 4,
  "nbformat_minor": 0,
  "metadata": {
    "colab": {
      "name": "week14-a108260029-王璽媛.ipynb",
      "provenance": [],
      "include_colab_link": true
    },
    "kernelspec": {
      "name": "python3",
      "display_name": "Python 3"
    }
  },
  "cells": [
    {
      "cell_type": "markdown",
      "metadata": {
        "id": "view-in-github",
        "colab_type": "text"
      },
      "source": [
        "<a href=\"https://colab.research.google.com/github/carol1334168/Computational-Thinking-and-Programming-Design/blob/master/week14_a108260029_%E7%8E%8B%E7%92%BD%E5%AA%9B.ipynb\" target=\"_parent\"><img src=\"https://colab.research.google.com/assets/colab-badge.svg\" alt=\"Open In Colab\"/></a>"
      ]
    },
    {
      "cell_type": "code",
      "metadata": {
        "id": "Meq-SFmSsIUD",
        "colab_type": "code",
        "outputId": "169b1732-367c-4283-df48-2d58e9d3502e",
        "colab": {
          "base_uri": "https://localhost:8080/",
          "height": 51
        }
      },
      "source": [
        "answer = \"b246\"\n",
        "\n",
        "while True:\n",
        "  password = input(\"Enter your password?\")\n",
        "  if password == answer:\n",
        "      print(\"ENTER THE SYSTEM\")\n",
        "      break\n",
        "  else:\n",
        "      print(\"Try Again\")"
      ],
      "execution_count": 4,
      "outputs": [
        {
          "output_type": "stream",
          "text": [
            "Enter your password?b246\n",
            "ENTER THE SYSTEM\n"
          ],
          "name": "stdout"
        }
      ]
    },
    {
      "cell_type": "code",
      "metadata": {
        "id": "gFj3Js-Uv9it",
        "colab_type": "code",
        "colab": {
          "base_uri": "https://localhost:8080/",
          "height": 68
        },
        "outputId": "daaa62ab-ce57-4bf9-a94b-18e1ddba4c06"
      },
      "source": [
        "answer = \"b123\"\n",
        "\n",
        "while True:\n",
        "  account = input(\"Enter your account?\")\n",
        "  password = input(\"Enter your password?\")\n",
        "  if account == answer:\n",
        "      print(\"ENTER THE SYSTEM\")\n",
        "      break\n",
        "  else:\n",
        "      print(\"Try Again\")"
      ],
      "execution_count": 5,
      "outputs": [
        {
          "output_type": "stream",
          "text": [
            "Enter your account?b123\n",
            "Enter your password?b123\n",
            "ENTER THE SYSTEM\n"
          ],
          "name": "stdout"
        }
      ]
    },
    {
      "cell_type": "code",
      "metadata": {
        "id": "PdgXNEfTyb55",
        "colab_type": "code",
        "colab": {
          "base_uri": "https://localhost:8080/",
          "height": 51
        },
        "outputId": "8bfd221f-cbd1-48bd-8f10-3d70b1d77c4d"
      },
      "source": [
        "password = \"a123456\"\n",
        "times = 0\n",
        "\n",
        "while times <= 3:\n",
        "    answer = input(\"Enter Your Password:\")\n",
        "    if answer == password:\n",
        "        print(\"ENTER THE SYSTEM\")\n",
        "        break\n",
        "    else:\n",
        "        time = times+1\n",
        "        chance=3-times\n",
        "        print(\"password is wrong!and\",chance,\"second chances\")"
      ],
      "execution_count": 6,
      "outputs": [
        {
          "output_type": "stream",
          "text": [
            "Enter Your Password:a123456\n",
            "ENTER THE SYSTEM\n"
          ],
          "name": "stdout"
        }
      ]
    },
    {
      "cell_type": "code",
      "metadata": {
        "id": "HcJkc4d50YTq",
        "colab_type": "code",
        "colab": {
          "base_uri": "https://localhost:8080/",
          "height": 34
        },
        "outputId": "4e95d11e-7f43-4326-bd49-75533cd24a5c"
      },
      "source": [
        "range(5)\n",
        "\n",
        "range(2,5)\n",
        "\n",
        "range(2,10,3)"
      ],
      "execution_count": 7,
      "outputs": [
        {
          "output_type": "execute_result",
          "data": {
            "text/plain": [
              "range(2, 10, 3)"
            ]
          },
          "metadata": {
            "tags": []
          },
          "execution_count": 7
        }
      ]
    },
    {
      "cell_type": "code",
      "metadata": {
        "id": "xo2Rn9C04ugq",
        "colab_type": "code",
        "colab": {
          "base_uri": "https://localhost:8080/",
          "height": 204
        },
        "outputId": "d9afdb4c-5a16-48ba-ced9-f89c9e16cee2"
      },
      "source": [
        "for i in range(5):\n",
        "    print(i)\n",
        "\n",
        "for i in range(2,5):\n",
        "    print(i)\n",
        "\n",
        "for i in range(2,10,3):\n",
        "    print(i)"
      ],
      "execution_count": 9,
      "outputs": [
        {
          "output_type": "stream",
          "text": [
            "0\n",
            "1\n",
            "2\n",
            "3\n",
            "4\n",
            "2\n",
            "3\n",
            "4\n",
            "2\n",
            "5\n",
            "8\n"
          ],
          "name": "stdout"
        }
      ]
    },
    {
      "cell_type": "code",
      "metadata": {
        "id": "vC7tj6SK5Kgm",
        "colab_type": "code",
        "colab": {
          "base_uri": "https://localhost:8080/",
          "height": 136
        },
        "outputId": "6f98c148-4766-425e-b969-3a1a0961326a"
      },
      "source": [
        "start = int(input(\"Enter a number?\"))\n",
        "end = int(input(\"enter a number?\"))\n",
        "step = int(input(\"enter a number?\"))\n",
        "\n",
        "sum=0\n",
        "\n",
        "for i in range(start,end,step):\n",
        "    sum = sum+1\n",
        "    print(\"i is\",i,\"sum equals\",sum)"
      ],
      "execution_count": 10,
      "outputs": [
        {
          "output_type": "stream",
          "text": [
            "Enter a number?3\n",
            "enter a number?13\n",
            "enter a number?3\n",
            "i is 3 sum equals 1\n",
            "i is 6 sum equals 2\n",
            "i is 9 sum equals 3\n",
            "i is 12 sum equals 4\n"
          ],
          "name": "stdout"
        }
      ]
    },
    {
      "cell_type": "code",
      "metadata": {
        "id": "kXZRGcP58Rjw",
        "colab_type": "code",
        "colab": {}
      },
      "source": [
        ""
      ],
      "execution_count": 0,
      "outputs": []
    }
  ]
}
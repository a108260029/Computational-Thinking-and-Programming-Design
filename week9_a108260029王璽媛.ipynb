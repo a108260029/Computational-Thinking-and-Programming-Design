{
  "nbformat": 4,
  "nbformat_minor": 0,
  "metadata": {
    "colab": {
      "name": "week9-a108260029王璽媛.ipynb",
      "provenance": [],
      "include_colab_link": true
    },
    "kernelspec": {
      "name": "python3",
      "display_name": "Python 3"
    }
  },
  "cells": [
    {
      "cell_type": "markdown",
      "metadata": {
        "id": "view-in-github",
        "colab_type": "text"
      },
      "source": [
        "<a href=\"https://colab.research.google.com/github/carol1334168/Computational-Thinking-and-Programming-Design/blob/master/week9_a108260029%E7%8E%8B%E7%92%BD%E5%AA%9B.ipynb\" target=\"_parent\"><img src=\"https://colab.research.google.com/assets/colab-badge.svg\" alt=\"Open In Colab\"/></a>"
      ]
    },
    {
      "cell_type": "code",
      "metadata": {
        "id": "Q4iQLtEBQeH_",
        "colab_type": "code",
        "outputId": "6f5ae9ac-ff13-499e-adf4-c8d14d0104f1",
        "colab": {
          "base_uri": "https://localhost:8080/",
          "height": 51
        }
      },
      "source": [
        "score=int(input('請輸入一個成績?'))\n",
        "if score >=60:\n",
        "  print('很好,繼續保持下去')"
      ],
      "execution_count": 0,
      "outputs": [
        {
          "output_type": "stream",
          "text": [
            "請輸入一個成績?70\n",
            "很好,繼續保持下去\n"
          ],
          "name": "stdout"
        }
      ]
    },
    {
      "cell_type": "code",
      "metadata": {
        "id": "JXhy4AoyddrR",
        "colab_type": "code",
        "colab": {
          "base_uri": "https://localhost:8080/",
          "height": 51
        },
        "outputId": "d6058491-0c87-4a63-82b9-deef888fa970"
      },
      "source": [
        "score=int(input('請輸入一個成績?'))\n",
        "if score >=60:\n",
        "  print('有及格哦!')\n",
        "else:\n",
        "  print('不及格ㄟ!')"
      ],
      "execution_count": 8,
      "outputs": [
        {
          "output_type": "stream",
          "text": [
            "請輸入一個成績?50\n",
            "不及格ㄟ!\n"
          ],
          "name": "stdout"
        }
      ]
    },
    {
      "cell_type": "code",
      "metadata": {
        "id": "AuVF9F_phjH-",
        "colab_type": "code",
        "colab": {
          "base_uri": "https://localhost:8080/",
          "height": 51
        },
        "outputId": "2e7a3685-7b55-4fff-bbc8-fd1e8daf8c59"
      },
      "source": [
        "score=int(input('請輸入一個成績?'))\n",
        "if score >=80:\n",
        "  print('非常好')\n",
        "elif score>=60:\n",
        "  print('不錯哦!')\n",
        "else:\n",
        "  print('要加油')"
      ],
      "execution_count": 9,
      "outputs": [
        {
          "output_type": "stream",
          "text": [
            "請輸入一個成績?66\n",
            "不錯哦!\n"
          ],
          "name": "stdout"
        }
      ]
    },
    {
      "cell_type": "code",
      "metadata": {
        "id": "CarTC298kW-Q",
        "colab_type": "code",
        "colab": {
          "base_uri": "https://localhost:8080/",
          "height": 68
        },
        "outputId": "3eb76163-5f4f-48cd-b255-8829cdf184b2"
      },
      "source": [
        "x=float(input('該輸入該點的X座標'))\n",
        "y=float(input('請輸入該點的Y座標'))\n",
        "\n",
        "if(x>0):\n",
        "  if(y>0):\n",
        "    print('該點在第一象限')\n",
        "else:\n",
        "  if(y>0):\n",
        "    print('該點在第二象限')\n",
        "  else:\n",
        "    print('該點在第三象限')"
      ],
      "execution_count": 10,
      "outputs": [
        {
          "output_type": "stream",
          "text": [
            "該輸入該點的X座標1\n",
            "請輸入該點的Y座標1\n",
            "該點在第一象限\n"
          ],
          "name": "stdout"
        }
      ]
    },
    {
      "cell_type": "code",
      "metadata": {
        "id": "1AZ9jGF7luq-",
        "colab_type": "code",
        "colab": {
          "base_uri": "https://localhost:8080/",
          "height": 51
        },
        "outputId": "8a57381f-39a4-40e2-b4e1-00cf0464dc84"
      },
      "source": [
        "cost=int(input('請輸入購買金額?'))\n",
        "if cost>=2000:\n",
        "  print(cost*0.9)\n",
        "else:\n",
        "  print(cost)"
      ],
      "execution_count": 11,
      "outputs": [
        {
          "output_type": "stream",
          "text": [
            "請輸入購買金額?2000\n",
            "1800.0\n"
          ],
          "name": "stdout"
        }
      ]
    },
    {
      "cell_type": "code",
      "metadata": {
        "id": "SLy-WqVQmSrU",
        "colab_type": "code",
        "colab": {
          "base_uri": "https://localhost:8080/",
          "height": 51
        },
        "outputId": "3ab53806-5dfb-45d9-c93e-c3c9bb32a1a7"
      },
      "source": [
        "num=int(input('請輸入一個整數?'))\n",
        "if num%2==0:\n",
        "  print(num,'為偶數')\n",
        "else:\n",
        "  print(num,'為奇數')"
      ],
      "execution_count": 12,
      "outputs": [
        {
          "output_type": "stream",
          "text": [
            "請輸入一個整數?30\n",
            "30 為偶數\n"
          ],
          "name": "stdout"
        }
      ]
    },
    {
      "cell_type": "code",
      "metadata": {
        "id": "lqBthttTnyV3",
        "colab_type": "code",
        "colab": {
          "base_uri": "https://localhost:8080/",
          "height": 51
        },
        "outputId": "704dc47a-dc5b-4ce9-be54-74355893f9f0"
      },
      "source": [
        "num=int(input('請輸入一個整數?'))\n",
        "if num%2==1:\n",
        "  print(num,'為奇數')\n",
        "else:\n",
        "  print(num,'為偶數')"
      ],
      "execution_count": 13,
      "outputs": [
        {
          "output_type": "stream",
          "text": [
            "請輸入一個整數?13\n",
            "13 為奇數\n"
          ],
          "name": "stdout"
        }
      ]
    },
    {
      "cell_type": "code",
      "metadata": {
        "id": "UyGIJSD0occy",
        "colab_type": "code",
        "colab": {}
      },
      "source": [
        ""
      ],
      "execution_count": 0,
      "outputs": []
    }
  ]
}